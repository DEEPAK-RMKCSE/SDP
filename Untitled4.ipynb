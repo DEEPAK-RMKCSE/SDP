{
  "nbformat": 4,
  "nbformat_minor": 0,
  "metadata": {
    "colab": {
      "provenance": [],
      "authorship_tag": "ABX9TyNVISbBHS8la3gUmhqGfAdR",
      "include_colab_link": true
    },
    "kernelspec": {
      "name": "python3",
      "display_name": "Python 3"
    },
    "language_info": {
      "name": "python"
    }
  },
  "cells": [
    {
      "cell_type": "markdown",
      "metadata": {
        "id": "view-in-github",
        "colab_type": "text"
      },
      "source": [
        "<a href=\"https://colab.research.google.com/github/DEEPAK-RMKCSE/SDP/blob/main/Untitled4.ipynb\" target=\"_parent\"><img src=\"https://colab.research.google.com/assets/colab-badge.svg\" alt=\"Open In Colab\"/></a>"
      ]
    },
    {
      "cell_type": "code",
      "execution_count": 3,
      "metadata": {
        "colab": {
          "base_uri": "https://localhost:8080/"
        },
        "id": "m3zgatiTDw6H",
        "outputId": "50c3c9f3-3f87-4ae2-b8fa-5f25602d5ae1"
      },
      "outputs": [
        {
          "output_type": "stream",
          "name": "stdout",
          "text": [
            "Following is Breadth First Traversal (starting from vertex 2)\n",
            "2 0 3 1 "
          ]
        }
      ],
      "source": [
        "from collections import defaultdict\n",
        "\n",
        "\n",
        "class Graph:\n",
        "\n",
        "    def __init__(self):\n",
        "\n",
        "        self.graph = defaultdict(list)\n",
        "        self.visited = []\n",
        "\n",
        "\n",
        "    def addEdge(self, u, v):\n",
        "        self.graph[u].append(v)\n",
        "\n",
        "\n",
        "    def BFS(self, s):\n",
        "\n",
        "        queue = []\n",
        "\n",
        "\n",
        "        queue.append(s)\n",
        "        self.visited.append(s)\n",
        "\n",
        "        while queue:\n",
        "\n",
        "            s = queue.pop(0)\n",
        "            print(s, end=\" \")\n",
        "\n",
        "\n",
        "\n",
        "            for i in self.graph[s]:\n",
        "                if i not in self.visited:\n",
        "                    queue.append(i)\n",
        "                    self.visited.append(i)\n",
        "\n",
        "g = Graph()\n",
        "g.addEdge(0, 1)\n",
        "g.addEdge(0, 2)\n",
        "g.addEdge(1, 2)\n",
        "g.addEdge(2, 0)\n",
        "g.addEdge(2, 3)\n",
        "g.addEdge(3, 3)\n",
        "print (\"Following is Breadth First Traversal\"\n",
        "\" (starting from vertex 2)\")\n",
        "g.BFS(2)"
      ]
    }
  ]
}