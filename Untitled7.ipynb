{
  "nbformat": 4,
  "nbformat_minor": 0,
  "metadata": {
    "colab": {
      "provenance": [],
      "authorship_tag": "ABX9TyP59lBKU4dUxNylhUMJwLge",
      "include_colab_link": true
    },
    "kernelspec": {
      "name": "python3",
      "display_name": "Python 3"
    },
    "language_info": {
      "name": "python"
    }
  },
  "cells": [
    {
      "cell_type": "markdown",
      "metadata": {
        "id": "view-in-github",
        "colab_type": "text"
      },
      "source": [
        "<a href=\"https://colab.research.google.com/github/DEEPAK-RMKCSE/SDP/blob/main/Untitled7.ipynb\" target=\"_parent\"><img src=\"https://colab.research.google.com/assets/colab-badge.svg\" alt=\"Open In Colab\"/></a>"
      ]
    },
    {
      "cell_type": "code",
      "execution_count": 6,
      "metadata": {
        "colab": {
          "base_uri": "https://localhost:8080/"
        },
        "id": "m3zgatiTDw6H",
        "outputId": "013a9909-3631-46be-a7e8-14e28d6f7a6e"
      },
      "outputs": [
        {
          "output_type": "stream",
          "name": "stdout",
          "text": [
            "[[0 0 0]\n",
            " [0 0 0]\n",
            " [0 0 0]]\n",
            "Board after 1 move\n",
            "[[0 1 0]\n",
            " [0 0 0]\n",
            " [0 0 0]]\n",
            "Board after 2 move\n",
            "[[0 1 0]\n",
            " [0 0 0]\n",
            " [2 0 0]]\n",
            "Board after 3 move\n",
            "[[1 1 0]\n",
            " [0 0 0]\n",
            " [2 0 0]]\n",
            "Board after 4 move\n",
            "[[1 1 0]\n",
            " [0 0 0]\n",
            " [2 2 0]]\n",
            "Board after 5 move\n",
            "[[1 1 0]\n",
            " [0 1 0]\n",
            " [2 2 0]]\n",
            "Board after 6 move\n",
            "[[1 1 0]\n",
            " [0 1 2]\n",
            " [2 2 0]]\n",
            "Board after 7 move\n",
            "[[1 1 1]\n",
            " [0 1 2]\n",
            " [2 2 0]]\n",
            "Winner is: 1\n"
          ]
        }
      ],
      "source": [
        "import numpy as np\n",
        "import random\n",
        "from time import sleep\n",
        "\n",
        "def create_board():\n",
        "    return np.zeros((3, 3), dtype=int)\n",
        "\n",
        "def possibilities(board):\n",
        "    return [(i, j) for i in range(3) for j in range(3) if board[i, j] == 0]\n",
        "\n",
        "def random_place(board, player):\n",
        "    selection = possibilities(board)\n",
        "    if selection:\n",
        "        current_loc = random.choice(selection)\n",
        "        board[current_loc] = player\n",
        "    return board\n",
        "\n",
        "def check_win(board, player):\n",
        "    return (\n",
        "        np.any(np.all(board == player, axis=0)) or\n",
        "        np.any(np.all(board == player, axis=1)) or\n",
        "        np.all(np.diag(board) == player) or\n",
        "        np.all(np.diag(np.fliplr(board)) == player)\n",
        "    )\n",
        "\n",
        "def evaluate(board):\n",
        "    for player in [1, 2]:\n",
        "        if check_win(board, player):\n",
        "            return player\n",
        "    return -1 if np.all(board != 0) else 0\n",
        "\n",
        "def play_game():\n",
        "    board, winner, counter = create_board(), 0, 1\n",
        "    print(board)\n",
        "    sleep(2)\n",
        "\n",
        "    while winner == 0:\n",
        "        for player in [1, 2]:\n",
        "            board = random_place(board, player)\n",
        "            print(f\"Board after {counter} move\")\n",
        "            print(board)\n",
        "            sleep(2)\n",
        "            counter += 1\n",
        "            winner = evaluate(board)\n",
        "            if winner != 0:\n",
        "                break\n",
        "\n",
        "    return winner\n",
        "\n",
        "\n",
        "print(\"Winner is:\", play_game())\n"
      ]
    }
  ]
}