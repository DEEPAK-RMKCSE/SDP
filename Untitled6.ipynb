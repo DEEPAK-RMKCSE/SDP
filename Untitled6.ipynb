{
  "nbformat": 4,
  "nbformat_minor": 0,
  "metadata": {
    "colab": {
      "provenance": [],
      "authorship_tag": "ABX9TyOoqYTbDAexr3YApVwafql0",
      "include_colab_link": true
    },
    "kernelspec": {
      "name": "python3",
      "display_name": "Python 3"
    },
    "language_info": {
      "name": "python"
    }
  },
  "cells": [
    {
      "cell_type": "markdown",
      "metadata": {
        "id": "view-in-github",
        "colab_type": "text"
      },
      "source": [
        "<a href=\"https://colab.research.google.com/github/DEEPAK-RMKCSE/SDP/blob/main/Untitled6.ipynb\" target=\"_parent\"><img src=\"https://colab.research.google.com/assets/colab-badge.svg\" alt=\"Open In Colab\"/></a>"
      ]
    },
    {
      "cell_type": "code",
      "execution_count": 5,
      "metadata": {
        "colab": {
          "base_uri": "https://localhost:8080/"
        },
        "id": "m3zgatiTDw6H",
        "outputId": "1fa1f93b-e2a5-409c-b808-8130b493e4dd"
      },
      "outputs": [
        {
          "output_type": "stream",
          "name": "stdout",
          "text": [
            "Following is Depth First Traversal (starting from vertex 2):\n",
            "2 0 1 3 Path from initial state to solution state:\n",
            "(0, 0)\n",
            "(0, 3)\n",
            "(4, 0)\n",
            "(4, 3)\n",
            "(3, 0)\n",
            "(1, 3)\n",
            "(3, 3)\n",
            "(4, 2)\n",
            "(0, 2)\n"
          ]
        }
      ],
      "source": [
        "from collections import defaultdict, deque\n",
        "\n",
        "class Graph:\n",
        "\n",
        "    def __init__(self):\n",
        "\n",
        "        self.graph = defaultdict(list)\n",
        "\n",
        "    def addEdge(self, u, v):\n",
        "        self.graph[u].append(v)\n",
        "\n",
        "    def DFSUtil(self, v, visited):\n",
        "\n",
        "        visited.add(v)\n",
        "        print(v, end=' ')\n",
        "\n",
        "        for neighbour in self.graph[v]:\n",
        "            if neighbour not in visited:\n",
        "                self.DFSUtil(neighbour, visited)\n",
        "\n",
        "\n",
        "    def DFS(self, v):\n",
        "\n",
        "        visited = set()\n",
        "\n",
        "\n",
        "        self.DFSUtil(v, visited)\n",
        "\n",
        "\n",
        "def Solution(a, b, target):\n",
        "    m = {}\n",
        "    isSolvable = False\n",
        "    path = []\n",
        "    q = deque()\n",
        "\n",
        "\n",
        "    q.append((0, 0))\n",
        "\n",
        "    while q:\n",
        "\n",
        "        u = q.popleft()\n",
        "\n",
        "        if (u[0], u[1]) in m:\n",
        "            continue\n",
        "\n",
        "        if u[0] > a or u[1] > b or u[0] < 0 or u[1] < 0:\n",
        "            continue\n",
        "\n",
        "        path.append([u[0], u[1]])\n",
        "        m[(u[0], u[1])] = 1\n",
        "\n",
        "        if u[0] == target or u[1] == target:\n",
        "            isSolvable = True\n",
        "            if u[0] == target and u[1] != 0:\n",
        "                path.append([u[0], 0])\n",
        "            elif u[0] != 0:\n",
        "                path.append([0, u[1]])\n",
        "\n",
        "            for p in path:\n",
        "                print(f\"({p[0]}, {p[1]})\")\n",
        "            return\n",
        "\n",
        "        q.append((u[0], b))\n",
        "        q.append((a, u[1]))\n",
        "\n",
        "        for ap in range(max(a, b) + 1):\n",
        "            c = u[0] + ap\n",
        "            d = u[1] - ap\n",
        "            if c == a or (d == 0 and d >= 0):\n",
        "                q.append((c, d))\n",
        "\n",
        "            c = u[0] - ap\n",
        "            d = u[1] + ap\n",
        "            if (c == 0 and c >= 0) or d == b:\n",
        "                q.append((c, d))\n",
        "\n",
        "        q.append((a, 0))\n",
        "        q.append((0, b))\n",
        "\n",
        "    if not isSolvable:\n",
        "        print(\"Solution not possible\")\n",
        "\n",
        "if __name__ == \"__main__\":\n",
        "    g = Graph()\n",
        "    g.addEdge(0, 1)\n",
        "    g.addEdge(0, 2)\n",
        "    g.addEdge(1, 2)\n",
        "    g.addEdge(2, 0)\n",
        "    g.addEdge(2, 3)\n",
        "    g.addEdge(3, 3)\n",
        "\n",
        "    print(\"Following is Depth First Traversal (starting from vertex 2):\")\n",
        "    g.DFS(2)\n",
        "\n",
        "\n",
        "    Jug1, Jug2, target = 4, 3, 2\n",
        "    print(\"Path from initial state to solution state:\")\n",
        "    Solution(Jug1, Jug2, target)\n"
      ]
    }
  ]
}